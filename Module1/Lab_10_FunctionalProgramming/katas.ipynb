{
 "cells": [
  {
   "attachments": {},
   "cell_type": "markdown",
   "metadata": {},
   "source": [
    "### 1. [Counting Sheeps] (https://www.codewars.com/kata/54edbc7200b811e956000556)"
   ]
  },
  {
   "cell_type": "code",
   "execution_count": 2,
   "metadata": {},
   "outputs": [],
   "source": [
    "def count_sheeps(sheep):\n",
    "  # TODO May the force be with you\n",
    "  return sheep.count(True)         "
   ]
  },
  {
   "attachments": {},
   "cell_type": "markdown",
   "metadata": {},
   "source": [
    "Test Results:\n",
    "\n",
    "Basic Tests\n",
    "\n",
    "Basic Tests\n",
    "\n",
    "Completed in 0.03ms\n",
    "\n",
    "You have passed all of the tests! :)"
   ]
  },
  {
   "attachments": {},
   "cell_type": "markdown",
   "metadata": {},
   "source": [
    "### 2. [Removing elements] (https://www.codewars.com/kata/5769b3802ae6f8e4890009d2)"
   ]
  },
  {
   "cell_type": "code",
   "execution_count": null,
   "metadata": {},
   "outputs": [],
   "source": []
  }
 ],
 "metadata": {
  "kernelspec": {
   "display_name": "Python 3",
   "language": "python",
   "name": "python3"
  },
  "language_info": {
   "codemirror_mode": {
    "name": "ipython",
    "version": 3
   },
   "file_extension": ".py",
   "mimetype": "text/x-python",
   "name": "python",
   "nbconvert_exporter": "python",
   "pygments_lexer": "ipython3",
   "version": "3.10.8"
  },
  "orig_nbformat": 4,
  "vscode": {
   "interpreter": {
    "hash": "af90203a1d46fb400a89817221af7fc99403fd56e4aa16a30a32be9fc74601ff"
   }
  }
 },
 "nbformat": 4,
 "nbformat_minor": 2
}
