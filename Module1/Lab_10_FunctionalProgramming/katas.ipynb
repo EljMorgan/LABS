{
 "cells": [
  {
   "attachments": {},
   "cell_type": "markdown",
   "metadata": {},
   "source": [
    "### 1. [Counting Sheeps] (https://www.codewars.com/kata/54edbc7200b811e956000556)"
   ]
  },
  {
   "cell_type": "code",
   "execution_count": 2,
   "metadata": {},
   "outputs": [],
   "source": [
    "def count_sheeps(sheep):\n",
    "  # TODO May the force be with you\n",
    "  return sheep.count(True)         "
   ]
  },
  {
   "attachments": {},
   "cell_type": "markdown",
   "metadata": {},
   "source": [
    "Test Results:\n",
    "\n",
    "Basic Tests\n",
    "\n",
    "Basic Tests\n",
    "\n",
    "Completed in 0.03ms\n",
    "\n",
    "You have passed all of the tests! :)"
   ]
  },
  {
   "attachments": {},
   "cell_type": "markdown",
   "metadata": {},
   "source": [
    "### 2. [Removing elements] (https://www.codewars.com/kata/5769b3802ae6f8e4890009d2)"
   ]
  },
  {
   "cell_type": "code",
   "execution_count": 3,
   "metadata": {},
   "outputs": [],
   "source": [
    "def remove_every_other(my_list):\n",
    "    # Your code here!\n",
    "    del my_list[1::2] \n",
    "    return my_list\n"
   ]
  },
  {
   "attachments": {},
   "cell_type": "markdown",
   "metadata": {},
   "source": [
    "Test Results:\n",
    "\n",
    "Test Passed\n",
    "\n",
    "Test Passed\n",
    "\n",
    "Test Passed\n",
    "\n",
    "Test Passed\n",
    "\n",
    "You have passed all of the tests! :)"
   ]
  },
  {
   "attachments": {},
   "cell_type": "markdown",
   "metadata": {},
   "source": [
    "### 3. Convert number to reversed array of digits"
   ]
  },
  {
   "cell_type": "code",
   "execution_count": 4,
   "metadata": {},
   "outputs": [],
   "source": [
    "def digitize(n):\n",
    "    return [int(s) for s in str(n)][::-1]"
   ]
  },
  {
   "attachments": {},
   "cell_type": "markdown",
   "metadata": {},
   "source": [
    "Test Results:\n",
    "Fixed Tests\n",
    "Random Tests\n",
    "You have passed all of the tests! :)"
   ]
  },
  {
   "attachments": {},
   "cell_type": "markdown",
   "metadata": {},
   "source": [
    "### 4. [Square every digit] (https://www.codewars.com/kata/546e2562b03326a88e000020)"
   ]
  },
  {
   "cell_type": "code",
   "execution_count": 5,
   "metadata": {},
   "outputs": [],
   "source": [
    "def square_digits(num):\n",
    "    # Your code here\n",
    "    return int(''.join(str(int(i)**2) for i in str(num)))\n",
    "        "
   ]
  },
  {
   "attachments": {},
   "cell_type": "markdown",
   "metadata": {},
   "source": [
    "Test Results:\n",
    "You have passed all of the tests! :)"
   ]
  },
  {
   "attachments": {},
   "cell_type": "markdown",
   "metadata": {},
   "source": [
    "### 5.Counting Total Occurence Of Specific Digits"
   ]
  },
  {
   "cell_type": "code",
   "execution_count": 6,
   "metadata": {},
   "outputs": [],
   "source": [
    "class List(object):\n",
    "    def count_spec_digits(self, integers_list, digits_list):\n",
    "        # your code here\n",
    "        s = \"\".join(str(i) for i in integers_list)\n",
    "        return [(dig, s.count(str(dig))) for dig in digits_list]\n",
    "    "
   ]
  }
 ],
 "metadata": {
  "kernelspec": {
   "display_name": "Python 3",
   "language": "python",
   "name": "python3"
  },
  "language_info": {
   "codemirror_mode": {
    "name": "ipython",
    "version": 3
   },
   "file_extension": ".py",
   "mimetype": "text/x-python",
   "name": "python",
   "nbconvert_exporter": "python",
   "pygments_lexer": "ipython3",
   "version": "3.10.8"
  },
  "orig_nbformat": 4,
  "vscode": {
   "interpreter": {
    "hash": "af90203a1d46fb400a89817221af7fc99403fd56e4aa16a30a32be9fc74601ff"
   }
  }
 },
 "nbformat": 4,
 "nbformat_minor": 2
}
