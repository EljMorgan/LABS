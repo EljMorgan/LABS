{
 "cells": [
  {
   "cell_type": "markdown",
   "metadata": {},
   "source": [
    "# Loops\n",
    "\n",
    "Complete the following set of exercises to solidify your knowledge for Loops."
   ]
  },
  {
   "cell_type": "markdown",
   "metadata": {},
   "source": [
    "#### 1. Print first 10 natural numbers using while loop"
   ]
  },
  {
   "cell_type": "code",
   "execution_count": 2,
   "metadata": {},
   "outputs": [
    {
     "name": "stdout",
     "output_type": "stream",
     "text": [
      "1\n",
      "2\n",
      "3\n",
      "4\n",
      "5\n",
      "6\n",
      "7\n",
      "8\n",
      "9\n",
      "10\n"
     ]
    }
   ],
   "source": [
    "for i in range (1, 11):\n",
    "    print(i)"
   ]
  },
  {
   "cell_type": "markdown",
   "metadata": {},
   "source": [
    "#### 2. Display numbers from a list using loop\n",
    "Write a program to display only those numbers from a list that satisfy the following conditions\n",
    "\n",
    "The number must be divisible by five\n",
    "\n",
    "If the number is greater than 150, then skip it and move to the next number\n",
    "\n",
    "If the number is greater than 500, then stop the loop\n",
    "\n",
    "numbers = [12, 75, 150, 180, 145, 525, 50]"
   ]
  },
  {
   "cell_type": "code",
   "execution_count": 8,
   "metadata": {},
   "outputs": [
    {
     "name": "stdout",
     "output_type": "stream",
     "text": [
      "75\n",
      "150\n",
      "145\n",
      "50\n"
     ]
    }
   ],
   "source": [
    "numbers = [12, 75, 150, 180, 145, 525, 50]\n",
    "\n",
    "for num in numbers:\n",
    "    if num % 5 == 0:\n",
    "        if num > 150:\n",
    "            continue\n",
    "        print(num)\n",
    "    else:\n",
    "       if num > 500:\n",
    "            break "
   ]
  },
  {
   "cell_type": "markdown",
   "metadata": {},
   "source": [
    "#### 3.Write a Python program to check the validity of a password (input from users).\n",
    "\n",
    "Validation :\n",
    "\n",
    "At least 1 letter between [a-z] and 1 letter between [A-Z].\n",
    "\n",
    "At least 1 number between [0-9].\n",
    "\n",
    "At least 1 character from [$#@].\n",
    "\n",
    "Minimum length 6 characters.\n",
    "\n",
    "Maximum length 16 characters."
   ]
  },
  {
   "cell_type": "code",
   "execution_count": 17,
   "metadata": {},
   "outputs": [
    {
     "name": "stdout",
     "output_type": "stream",
     "text": [
      "Not a Valid Password, Minimum length 6 characters and Maximum 16.\n"
     ]
    }
   ],
   "source": [
    "import re\n",
    "\n",
    "password = input('Enter your pass: ')\n",
    "\n",
    "while True:  \n",
    "    if (len(password)<6 or len(password)>16):\n",
    "        print(\"Not a Valid Password, Minimum length 6 characters and Maximum 16.\")\n",
    "        break\n",
    "    elif not re.search(\"[a-z]\",password):\n",
    "        print(\"Not a Valid Password, At least 1 letter between [a-z]\")\n",
    "        break\n",
    "    elif not re.search(\"[0-9]\",password):\n",
    "        print(\"Not a Valid Password, At least 1 number between [0-9]\")\n",
    "        break\n",
    "    elif not re.search(\"[A-Z]\",password):\n",
    "        print(\"Not a Valid Password, At least 1 letter between [A-Z]\")\n",
    "        break\n",
    "    elif not re.search(\"[$#@]\",password):\n",
    "        print(\"Not a Valid Password, At least 1 character from [$#@]\")\n",
    "        break\n",
    "    elif re.search(\"\\s\",password):\n",
    "        print(\"Not a Valid Password, no spaces requeired\")\n",
    "        break\n",
    "    else:\n",
    "        print(\"Valid Password\")\n",
    "        break\n"
   ]
  },
  {
   "cell_type": "markdown",
   "metadata": {},
   "source": [
    "#### 4. Break the loop when x is 6, and see what happens with the else block"
   ]
  },
  {
   "cell_type": "code",
   "execution_count": 5,
   "metadata": {},
   "outputs": [
    {
     "name": "stdout",
     "output_type": "stream",
     "text": [
      "I'm an else condition, cause x is  1\n",
      "I'm an else condition, cause x is  2\n",
      "I'm an else condition, cause x is  3\n",
      "I'm an else condition, cause x is  4\n",
      "I'm an else condition, cause x is  5\n",
      "Now x is 6 and I am out of loop\n"
     ]
    }
   ],
   "source": [
    "\n",
    "x = 0\n",
    "while True:\n",
    "    x += 1\n",
    "    if x ==  6:\n",
    "        break\n",
    "    else:\n",
    "        print(\"I'm an else condition, cause x is \", x)\n",
    "print('Now x is 6 and I am out of loop')\n"
   ]
  },
  {
   "cell_type": "markdown",
   "metadata": {},
   "source": [
    "#### 5. Write a Python program to calculate the sum and average of n integer numbers (input from the user). Input 0 to finish.\n"
   ]
  },
  {
   "cell_type": "code",
   "execution_count": 10,
   "metadata": {},
   "outputs": [
    {
     "name": "stdout",
     "output_type": "stream",
     "text": [
      "[55, 61, 23, 22, 0]\n",
      "The numbers your entered are:  [55, 61, 23, 22, 0] The sum of your integer numbers is:  161 , and the average is:  32.2\n"
     ]
    }
   ],
   "source": [
    "numbers = []\n",
    "while True:\n",
    "    \n",
    "    user_input = int(input('Enter an integer number'))\n",
    "    numbers.append(user_input)\n",
    "    if user_input == 0:\n",
    "        break\n",
    "print(numbers)\n",
    "print('The numbers your entered are: ', numbers, 'The sum of your integer numbers is: ', sum(numbers), ', and the average is: ', sum(numbers)/len(numbers))\n",
    "\n"
   ]
  }
 ],
 "metadata": {
  "kernelspec": {
   "display_name": "base",
   "language": "python",
   "name": "python3"
  },
  "language_info": {
   "codemirror_mode": {
    "name": "ipython",
    "version": 3
   },
   "file_extension": ".py",
   "mimetype": "text/x-python",
   "name": "python",
   "nbconvert_exporter": "python",
   "pygments_lexer": "ipython3",
   "version": "3.9.13"
  },
  "vscode": {
   "interpreter": {
    "hash": "09f7e6668b2ca500246c7aa49e00103995f5db309032e3f8404f4083e25ef75f"
   }
  }
 },
 "nbformat": 4,
 "nbformat_minor": 2
}
